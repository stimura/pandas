{
 "cells": [
  {
   "cell_type": "code",
   "execution_count": 13,
   "metadata": {
    "collapsed": true
   },
   "outputs": [],
   "source": [
    "import pandas as pd"
   ]
  },
  {
   "cell_type": "code",
   "execution_count": 14,
   "metadata": {
    "collapsed": true
   },
   "outputs": [],
   "source": [
    "filename = \"purchase_data.json\"\n",
    "purchase_df = pd.read_json(filename, orient=None, typ='frame', dtype=True,\n",
    "              convert_axes=True, convert_dates=True, keep_default_dates=True,\n",
    "              numpy=False, precise_float=False, date_unit=None, encoding=None,\n",
    "              lines=False, chunksize=None, compression='infer')"
   ]
  },
  {
   "cell_type": "code",
   "execution_count": 15,
   "metadata": {},
   "outputs": [
    {
     "data": {
      "text/html": [
       "<div>\n",
       "<style scoped>\n",
       "    .dataframe tbody tr th:only-of-type {\n",
       "        vertical-align: middle;\n",
       "    }\n",
       "\n",
       "    .dataframe tbody tr th {\n",
       "        vertical-align: top;\n",
       "    }\n",
       "\n",
       "    .dataframe thead th {\n",
       "        text-align: right;\n",
       "    }\n",
       "</style>\n",
       "<table border=\"1\" class=\"dataframe\">\n",
       "  <thead>\n",
       "    <tr style=\"text-align: right;\">\n",
       "      <th></th>\n",
       "      <th>Total Players</th>\n",
       "    </tr>\n",
       "  </thead>\n",
       "  <tbody>\n",
       "    <tr>\n",
       "      <th>0</th>\n",
       "      <td>573</td>\n",
       "    </tr>\n",
       "  </tbody>\n",
       "</table>\n",
       "</div>"
      ],
      "text/plain": [
       "   Total Players\n",
       "0            573"
      ]
     },
     "execution_count": 15,
     "metadata": {},
     "output_type": "execute_result"
    }
   ],
   "source": [
    "# Total Players\n",
    "unique_players = purchase_df[\"SN\"].unique()\n",
    "total_players = len(unique_players)\n",
    "\n",
    "# Create Dataframe for answer\n",
    "total_players_data = {\"Total Players\" : [total_players]}\n",
    "total_players_df = pd.DataFrame(total_players_data)\n",
    "total_players_df"
   ]
  },
  {
   "cell_type": "code",
   "execution_count": 16,
   "metadata": {
    "collapsed": true
   },
   "outputs": [],
   "source": [
    "# Number of Unique Items\n",
    "unique_items = purchase_df[\"Item Name\"].unique()\n",
    "num_unique_items = len(unique_items)"
   ]
  },
  {
   "cell_type": "code",
   "execution_count": 17,
   "metadata": {
    "collapsed": true
   },
   "outputs": [],
   "source": [
    "# Average Purchase Price\n",
    "avg_purchase_price = purchase_df[\"Price\"].mean()\n",
    "formatted_avg_purchase_price = \"$\" + str(round(avg_purchase_price, 2))"
   ]
  },
  {
   "cell_type": "code",
   "execution_count": 18,
   "metadata": {
    "collapsed": true
   },
   "outputs": [],
   "source": [
    "# Total Number of Purchases\n",
    "total_purchases = purchase_df[\"Item ID\"].count()"
   ]
  },
  {
   "cell_type": "code",
   "execution_count": 19,
   "metadata": {
    "collapsed": true
   },
   "outputs": [],
   "source": [
    "# Total Revenue\n",
    "total_revenue = purchase_df[\"Price\"].sum()\n",
    "formatted_total_revenue = \"$\" + str(round(total_revenue, 2))"
   ]
  },
  {
   "cell_type": "code",
   "execution_count": 20,
   "metadata": {},
   "outputs": [
    {
     "data": {
      "text/html": [
       "<div>\n",
       "<style scoped>\n",
       "    .dataframe tbody tr th:only-of-type {\n",
       "        vertical-align: middle;\n",
       "    }\n",
       "\n",
       "    .dataframe tbody tr th {\n",
       "        vertical-align: top;\n",
       "    }\n",
       "\n",
       "    .dataframe thead th {\n",
       "        text-align: right;\n",
       "    }\n",
       "</style>\n",
       "<table border=\"1\" class=\"dataframe\">\n",
       "  <thead>\n",
       "    <tr style=\"text-align: right;\">\n",
       "      <th></th>\n",
       "      <th>Average Purchase Price</th>\n",
       "      <th>Number of Unique Items</th>\n",
       "      <th>Total Number of Purchases</th>\n",
       "      <th>Total Revenue</th>\n",
       "    </tr>\n",
       "  </thead>\n",
       "  <tbody>\n",
       "    <tr>\n",
       "      <th>0</th>\n",
       "      <td>$2.93</td>\n",
       "      <td>179</td>\n",
       "      <td>780</td>\n",
       "      <td>$2286.33</td>\n",
       "    </tr>\n",
       "  </tbody>\n",
       "</table>\n",
       "</div>"
      ],
      "text/plain": [
       "  Average Purchase Price  Number of Unique Items  Total Number of Purchases  \\\n",
       "0                  $2.93                     179                        780   \n",
       "\n",
       "  Total Revenue  \n",
       "0      $2286.33  "
      ]
     },
     "execution_count": 20,
     "metadata": {},
     "output_type": "execute_result"
    }
   ],
   "source": [
    "# Purchasing Analysis (Total)\n",
    "purchasing_analysis_rawdic = {\"Number of Unique Items\" : [num_unique_items],\n",
    "                         \"Average Purchase Price\": [formatted_avg_purchase_price],\n",
    "                         \"Total Number of Purchases\" : [total_purchases],\n",
    "                         \"Total Revenue\" : [formatted_total_revenue]}\n",
    "\n",
    "purchasing_analysis_df = pd.DataFrame(purchasing_analysis_rawdic)\n",
    "purchasing_analysis_df"
   ]
  },
  {
   "cell_type": "code",
   "execution_count": 21,
   "metadata": {
    "collapsed": true
   },
   "outputs": [],
   "source": [
    "# Percentage and Count of Male Players\n",
    "male_players = purchase_df.loc[purchase_df[\"Gender\"] == \"Male\", :]\n",
    "group_male_players = male_players.groupby(\"SN\")\n",
    "\n",
    "# Count of Male Players\n",
    "count_male_players = len(group_male_players)\n",
    "\n",
    "# Percentage of Male Players\n",
    "percentage_male_players = count_male_players / total_players\n",
    "formatted_percentage_male_players = round(100 * percentage_male_players, 2)"
   ]
  },
  {
   "cell_type": "code",
   "execution_count": 22,
   "metadata": {
    "collapsed": true
   },
   "outputs": [],
   "source": [
    "# Percentage and Count of Female Players\n",
    "female_players = purchase_df.loc[purchase_df[\"Gender\"] == \"Female\", :]\n",
    "group_female_players = female_players.groupby(\"SN\")\n",
    "\n",
    "# Count of Female Players\n",
    "count_female_players = len(group_female_players)\n",
    "\n",
    "# Percentage of Female Players\n",
    "percentage_female_players = count_female_players / total_players\n",
    "formatted_percentage_female_players = round(100 * percentage_female_players, 2)"
   ]
  },
  {
   "cell_type": "code",
   "execution_count": 23,
   "metadata": {
    "collapsed": true
   },
   "outputs": [],
   "source": [
    "# Percentage and Count of Other / Non-Disclosed Players\n",
    "other_gender_players = purchase_df.loc[purchase_df[\"Gender\"] == \"Other / Non-Disclosed\", :]\n",
    "group_other_gender_players = other_gender_players.groupby(\"SN\")\n",
    "\n",
    "# Count of Other / Non-Disclosed Players\n",
    "count_other_gender_players = len(group_other_gender_players)\n",
    "\n",
    "# Percentage of Other / Non-Disclosed Players\n",
    "percentage_other_gender_players = count_other_gender_players / total_players\n",
    "formatted_percentage_other_gender_players = round(100 * percentage_other_gender_players, 2)"
   ]
  },
  {
   "cell_type": "code",
   "execution_count": 24,
   "metadata": {},
   "outputs": [
    {
     "data": {
      "text/html": [
       "<div>\n",
       "<style scoped>\n",
       "    .dataframe tbody tr th:only-of-type {\n",
       "        vertical-align: middle;\n",
       "    }\n",
       "\n",
       "    .dataframe tbody tr th {\n",
       "        vertical-align: top;\n",
       "    }\n",
       "\n",
       "    .dataframe thead th {\n",
       "        text-align: right;\n",
       "    }\n",
       "</style>\n",
       "<table border=\"1\" class=\"dataframe\">\n",
       "  <thead>\n",
       "    <tr style=\"text-align: right;\">\n",
       "      <th></th>\n",
       "      <th>Percentage of Total Players</th>\n",
       "      <th>Total Count</th>\n",
       "    </tr>\n",
       "  </thead>\n",
       "  <tbody>\n",
       "    <tr>\n",
       "      <th>Male</th>\n",
       "      <td>81.15</td>\n",
       "      <td>465</td>\n",
       "    </tr>\n",
       "    <tr>\n",
       "      <th>Female</th>\n",
       "      <td>17.45</td>\n",
       "      <td>100</td>\n",
       "    </tr>\n",
       "    <tr>\n",
       "      <th>Other / Non-Disclosed</th>\n",
       "      <td>1.40</td>\n",
       "      <td>8</td>\n",
       "    </tr>\n",
       "  </tbody>\n",
       "</table>\n",
       "</div>"
      ],
      "text/plain": [
       "                       Percentage of Total Players  Total Count\n",
       "Male                                         81.15          465\n",
       "Female                                       17.45          100\n",
       "Other / Non-Disclosed                         1.40            8"
      ]
     },
     "execution_count": 24,
     "metadata": {},
     "output_type": "execute_result"
    }
   ],
   "source": [
    "# Gender Demographics\n",
    "gender_demographics_rawdic = {\"Percentage of Total Players\" : [formatted_percentage_male_players, formatted_percentage_female_players, formatted_percentage_other_gender_players],\n",
    "                         \"Total Count\": [count_male_players, count_female_players, count_other_gender_players]}\n",
    "\n",
    "gender_demographics_df = pd.DataFrame(gender_demographics_rawdic)\n",
    "\n",
    "formatted_gender_demographics = gender_demographics_df.rename(index={0 : \"Male\", 1 : \"Female\", 2 : \"Other / Non-Disclosed\"})\n",
    "formatted_gender_demographics"
   ]
  },
  {
   "cell_type": "code",
   "execution_count": 25,
   "metadata": {
    "collapsed": true
   },
   "outputs": [],
   "source": [
    "# Male Purchasing Analysis\n",
    "\n",
    "# Count of Male Purchases\n",
    "male_players_purchases = purchase_df.loc[purchase_df[\"Gender\"] == \"Male\", :]\n",
    "group_male_players_purchases = male_players_purchases.groupby(\"SN\")\n",
    "count_male_players_purchases = len(group_male_players_purchases)\n",
    "\n",
    "# Average Purchase Price (Males)\n",
    "avg_male_players_purchases = male_players_purchases[\"Price\"].mean()\n",
    "formatted_avg_male_players_purchases = \"$\" + str(round(avg_male_players_purchases, 2))\n",
    "\n",
    "# Total Purchase Value (Males)\n",
    "total_male_players_purchases = male_players_purchases[\"Price\"].sum()\n",
    "formatted_total_male_players_purchases = \"$\" + str(round(total_male_players_purchases, 2))\n",
    "\n",
    "# Normalized Avg Total (Males)\n",
    "normalized_male_players_purchases = total_male_players_purchases / count_male_players_purchases\n",
    "formatted_normalized_male_players_purchases = \"$\" + str(round(normalized_male_players_purchases, 2))"
   ]
  },
  {
   "cell_type": "code",
   "execution_count": 26,
   "metadata": {
    "collapsed": true
   },
   "outputs": [],
   "source": [
    "# Female Purchasing Analysis\n",
    "\n",
    "# Count of female Purchases\n",
    "female_players_purchases = purchase_df.loc[purchase_df[\"Gender\"] == \"Female\", :]\n",
    "group_female_players_purchases = female_players_purchases.groupby(\"SN\")\n",
    "count_female_players_purchases = len(group_female_players_purchases)\n",
    "\n",
    "# Average Purchase Price (Females)\n",
    "avg_female_players_purchases = female_players_purchases[\"Price\"].mean()\n",
    "formatted_avg_female_players_purchases = \"$\" + str(round(avg_female_players_purchases, 2))\n",
    "\n",
    "# Total Purchase Value (Females)\n",
    "total_female_players_purchases = female_players_purchases[\"Price\"].sum()\n",
    "formatted_total_female_players_purchases = \"$\" + str(round(total_female_players_purchases, 2))\n",
    "\n",
    "# Normalized Avg Total (Females)\n",
    "normalized_female_players_purchases = total_female_players_purchases / count_female_players_purchases\n",
    "formatted_normalized_female_players_purchases = \"$\" + str(round(normalized_female_players_purchases, 2))"
   ]
  },
  {
   "cell_type": "code",
   "execution_count": 27,
   "metadata": {
    "collapsed": true
   },
   "outputs": [],
   "source": [
    "# Other / Non-Disclosed Purchasing Analysis\n",
    "\n",
    "# Count of Other / Non-Disclosed Purchases\n",
    "other_gender_players_purchases = purchase_df.loc[purchase_df[\"Gender\"] == \"Other / Non-Disclosed\", :]\n",
    "group_other_gender_players_purchases = other_gender_players_purchases.groupby(\"SN\")\n",
    "count_other_gender_players_purchases = len(group_other_gender_players_purchases)\n",
    "\n",
    "# Average Purchase Price (Other / Non-Disclosed)\n",
    "avg_other_gender_players_purchases = other_gender_players_purchases[\"Price\"].mean()\n",
    "formatted_avg_other_gender_players_purchases = \"$\" + str(round(avg_other_gender_players_purchases, 2))\n",
    "\n",
    "# Total Purchase Value (Other / Non-Disclosed)\n",
    "total_other_gender_players_purchases = other_gender_players_purchases[\"Price\"].sum()\n",
    "formatted_total_other_gender_players_purchases = \"$\" + str(round(total_other_gender_players_purchases, 2))\n",
    "\n",
    "# Normalized Avg Total (Other / Non-Disclosed)\n",
    "normalized_other_gender_players_purchases = total_other_gender_players_purchases / count_other_gender_players_purchases\n",
    "formatted_normalized_other_gender_players_purchases = \"$\" + str(round(normalized_other_gender_players_purchases, 2))"
   ]
  },
  {
   "cell_type": "code",
   "execution_count": 28,
   "metadata": {},
   "outputs": [
    {
     "data": {
      "text/html": [
       "<div>\n",
       "<style scoped>\n",
       "    .dataframe tbody tr th:only-of-type {\n",
       "        vertical-align: middle;\n",
       "    }\n",
       "\n",
       "    .dataframe tbody tr th {\n",
       "        vertical-align: top;\n",
       "    }\n",
       "\n",
       "    .dataframe thead th {\n",
       "        text-align: right;\n",
       "    }\n",
       "</style>\n",
       "<table border=\"1\" class=\"dataframe\">\n",
       "  <thead>\n",
       "    <tr style=\"text-align: right;\">\n",
       "      <th></th>\n",
       "      <th>Average Purchase Price</th>\n",
       "      <th>Normalized Totals</th>\n",
       "      <th>Purchase Count</th>\n",
       "      <th>Total Purchase Value</th>\n",
       "    </tr>\n",
       "    <tr>\n",
       "      <th>Gender</th>\n",
       "      <th></th>\n",
       "      <th></th>\n",
       "      <th></th>\n",
       "      <th></th>\n",
       "    </tr>\n",
       "  </thead>\n",
       "  <tbody>\n",
       "    <tr>\n",
       "      <th>Male</th>\n",
       "      <td>$2.95</td>\n",
       "      <td>$4.02</td>\n",
       "      <td>465</td>\n",
       "      <td>$1867.68</td>\n",
       "    </tr>\n",
       "    <tr>\n",
       "      <th>Female</th>\n",
       "      <td>$2.82</td>\n",
       "      <td>$3.83</td>\n",
       "      <td>100</td>\n",
       "      <td>$382.91</td>\n",
       "    </tr>\n",
       "    <tr>\n",
       "      <th>Other / Non-Disclosed</th>\n",
       "      <td>$3.25</td>\n",
       "      <td>$4.47</td>\n",
       "      <td>8</td>\n",
       "      <td>$35.74</td>\n",
       "    </tr>\n",
       "  </tbody>\n",
       "</table>\n",
       "</div>"
      ],
      "text/plain": [
       "                      Average Purchase Price Normalized Totals  \\\n",
       "Gender                                                           \n",
       "Male                                   $2.95             $4.02   \n",
       "Female                                 $2.82             $3.83   \n",
       "Other / Non-Disclosed                  $3.25             $4.47   \n",
       "\n",
       "                       Purchase Count Total Purchase Value  \n",
       "Gender                                                      \n",
       "Male                              465             $1867.68  \n",
       "Female                            100              $382.91  \n",
       "Other / Non-Disclosed               8               $35.74  "
      ]
     },
     "execution_count": 28,
     "metadata": {},
     "output_type": "execute_result"
    }
   ],
   "source": [
    "# Purchasing Analysis by Gender Chart\n",
    "purchasing_analysis_gender_rawdic = {\"Purchase Count\" : [count_male_players_purchases, count_female_players_purchases, count_other_gender_players_purchases],\n",
    "                         \"Average Purchase Price\": [formatted_avg_male_players_purchases, formatted_avg_female_players_purchases, formatted_avg_other_gender_players_purchases],\n",
    "                         \"Total Purchase Value\" : [formatted_total_male_players_purchases, formatted_total_female_players_purchases, formatted_total_other_gender_players_purchases],\n",
    "                         \"Normalized Totals\" : [formatted_normalized_male_players_purchases, formatted_normalized_female_players_purchases, formatted_normalized_other_gender_players_purchases]}\n",
    "\n",
    "purchasing_analysis_gender_df = pd.DataFrame(purchasing_analysis_gender_rawdic)\n",
    "formatted_purchasing_analysis_gender_df = purchasing_analysis_gender_df.rename(index={0 : \"Male\", 1 : \"Female\", 2 : \"Other / Non-Disclosed\"})\n",
    "formatted_purchasing_analysis_gender_df.index.name = \"Gender\"\n",
    "formatted_purchasing_analysis_gender_df"
   ]
  },
  {
   "cell_type": "code",
   "execution_count": 29,
   "metadata": {
    "collapsed": true
   },
   "outputs": [],
   "source": [
    "# Age Demographics into bins of 4 years (i.e. <10, 10-14, 15-19, etc.)\n",
    "bins = [0, 10,  14,  19, 24, 29, 34, 39, 100]\n",
    "\n",
    "group_names = [\"<10\", \"10-14\", \"15-19\", \"20-24\", \"25-29\", \"30-34\", \"35-39\", \"40=<\"]"
   ]
  },
  {
   "cell_type": "code",
   "execution_count": 30,
   "metadata": {
    "collapsed": true
   },
   "outputs": [],
   "source": [
    "# Place into bins\n",
    "purchase_df[\"Age Range\"] = pd.cut(purchase_df[\"Age\"], bins, labels=group_names)\n",
    "\n",
    "#regiment_df[\"Test Score Summary\"] = pd.cut(regiment_df[\"Test Score\"], bins, labels=group_names)\n",
    "age_demographics = purchase_df.groupby(\"Age Range\")\n",
    "unique_age = age_demographics[\"SN\"].nunique()\n",
    "unique_age_df = pd.DataFrame(unique_age)\n",
    "count_age_demographics = unique_age_df.rename(columns={\"SN\" : \"Total Count of Players\"})"
   ]
  },
  {
   "cell_type": "code",
   "execution_count": 31,
   "metadata": {
    "collapsed": true
   },
   "outputs": [],
   "source": [
    "df = count_age_demographics[\"Total Count of Players\"]\n",
    "percentage_age_demographics = [round((person / total_players) * 100, 2) for person in df]"
   ]
  },
  {
   "cell_type": "code",
   "execution_count": 32,
   "metadata": {
    "collapsed": true
   },
   "outputs": [],
   "source": [
    "# Convert Percentage Age Demographics into DataFrame\n",
    "percentage_age_demographics_df = pd.DataFrame(percentage_age_demographics)\n",
    "renamed_percentage_age_demographics_df = percentage_age_demographics_df.rename(index={0 : \"<10\", 1 : \"10-14\", 2 : \"15-19\", 3: \"20-24\",\n",
    "                                                                                      4 : \"25-29\", 5 : \"30-34\", 6 : \"35-39\", 7 : \"40=<\"})\n"
   ]
  },
  {
   "cell_type": "code",
   "execution_count": 33,
   "metadata": {},
   "outputs": [
    {
     "data": {
      "text/html": [
       "<div>\n",
       "<style scoped>\n",
       "    .dataframe tbody tr th:only-of-type {\n",
       "        vertical-align: middle;\n",
       "    }\n",
       "\n",
       "    .dataframe tbody tr th {\n",
       "        vertical-align: top;\n",
       "    }\n",
       "\n",
       "    .dataframe thead th {\n",
       "        text-align: right;\n",
       "    }\n",
       "</style>\n",
       "<table border=\"1\" class=\"dataframe\">\n",
       "  <thead>\n",
       "    <tr style=\"text-align: right;\">\n",
       "      <th></th>\n",
       "      <th>Total Count of Players</th>\n",
       "      <th>Percentage of Players</th>\n",
       "    </tr>\n",
       "    <tr>\n",
       "      <th>Age Range</th>\n",
       "      <th></th>\n",
       "      <th></th>\n",
       "    </tr>\n",
       "  </thead>\n",
       "  <tbody>\n",
       "    <tr>\n",
       "      <th>&lt;10</th>\n",
       "      <td>22</td>\n",
       "      <td>3.84</td>\n",
       "    </tr>\n",
       "    <tr>\n",
       "      <th>10-14</th>\n",
       "      <td>20</td>\n",
       "      <td>3.49</td>\n",
       "    </tr>\n",
       "    <tr>\n",
       "      <th>15-19</th>\n",
       "      <td>100</td>\n",
       "      <td>17.45</td>\n",
       "    </tr>\n",
       "    <tr>\n",
       "      <th>20-24</th>\n",
       "      <td>259</td>\n",
       "      <td>45.20</td>\n",
       "    </tr>\n",
       "    <tr>\n",
       "      <th>25-29</th>\n",
       "      <td>87</td>\n",
       "      <td>15.18</td>\n",
       "    </tr>\n",
       "    <tr>\n",
       "      <th>30-34</th>\n",
       "      <td>47</td>\n",
       "      <td>8.20</td>\n",
       "    </tr>\n",
       "    <tr>\n",
       "      <th>35-39</th>\n",
       "      <td>27</td>\n",
       "      <td>4.71</td>\n",
       "    </tr>\n",
       "    <tr>\n",
       "      <th>40=&lt;</th>\n",
       "      <td>11</td>\n",
       "      <td>1.92</td>\n",
       "    </tr>\n",
       "  </tbody>\n",
       "</table>\n",
       "</div>"
      ],
      "text/plain": [
       "           Total Count of Players  Percentage of Players\n",
       "Age Range                                               \n",
       "<10                            22                   3.84\n",
       "10-14                          20                   3.49\n",
       "15-19                         100                  17.45\n",
       "20-24                         259                  45.20\n",
       "25-29                          87                  15.18\n",
       "30-34                          47                   8.20\n",
       "35-39                          27                   4.71\n",
       "40=<                           11                   1.92"
      ]
     },
     "execution_count": 33,
     "metadata": {},
     "output_type": "execute_result"
    }
   ],
   "source": [
    "# Age Demographics\n",
    "age_demographics_table = count_age_demographics.join(renamed_percentage_age_demographics_df)\n",
    "final_age_demographics_table = age_demographics_table.rename(columns={0 : \"Percentage of Players\"})\n",
    "final_age_demographics_table"
   ]
  },
  {
   "cell_type": "code",
   "execution_count": 34,
   "metadata": {
    "collapsed": true
   },
   "outputs": [],
   "source": [
    "# Purchase Count\n",
    "purchase_count = age_demographics[\"Age\"].count()\n",
    "\n",
    "# Convert to DataFrame\n",
    "purchase_count_df = pd.DataFrame(purchase_count)\n",
    "renamed_purchase_count_df = purchase_count_df.rename(columns={\"Age\" : \"Purchase Count\"})"
   ]
  },
  {
   "cell_type": "code",
   "execution_count": 35,
   "metadata": {
    "collapsed": true
   },
   "outputs": [],
   "source": [
    "# Average Purchase Price by Age\n",
    "avg_price_age = age_demographics[\"Price\"].mean()\n",
    "\n",
    "# Convert to DataFrame\n",
    "avg_price_age_df = pd.DataFrame(avg_price_age)\n",
    "renamed_avg_price_age_df = avg_price_age_df.rename(columns={\"Price\" : \"Average Purchase Price\"})"
   ]
  },
  {
   "cell_type": "code",
   "execution_count": 36,
   "metadata": {
    "collapsed": true
   },
   "outputs": [],
   "source": [
    "# Total Purchase Value by Age\n",
    "total_value_age = age_demographics[\"Price\"].sum()\n",
    "\n",
    "# Convert to DataFrame\n",
    "total_value_age_df = pd.DataFrame(total_value_age)\n",
    "renamed_total_value_age_df = total_value_age_df.rename(columns={\"Price\" : \"Total Purchase Value\"})"
   ]
  },
  {
   "cell_type": "code",
   "execution_count": 37,
   "metadata": {
    "collapsed": true
   },
   "outputs": [],
   "source": [
    "# Normalized Values\n",
    "normalized_values_age = total_value_age / final_age_demographics_table[\"Total Count of Players\"]\n",
    "\n",
    "# Format and Convert\n",
    "formatted_normalized_values_age_df = pd.DataFrame(normalized_values_age)\n",
    "renamed_normalized_values_age_df = formatted_normalized_values_age_df.rename(columns={0 : \"Normalized Value Totals\"})"
   ]
  },
  {
   "cell_type": "code",
   "execution_count": 38,
   "metadata": {},
   "outputs": [
    {
     "data": {
      "text/html": [
       "<div>\n",
       "<style scoped>\n",
       "    .dataframe tbody tr th:only-of-type {\n",
       "        vertical-align: middle;\n",
       "    }\n",
       "\n",
       "    .dataframe tbody tr th {\n",
       "        vertical-align: top;\n",
       "    }\n",
       "\n",
       "    .dataframe thead th {\n",
       "        text-align: right;\n",
       "    }\n",
       "</style>\n",
       "<table border=\"1\" class=\"dataframe\">\n",
       "  <thead>\n",
       "    <tr style=\"text-align: right;\">\n",
       "      <th></th>\n",
       "      <th>Average Purchase Price</th>\n",
       "      <th>Total Purchase Value</th>\n",
       "      <th>Normalized Value Totals</th>\n",
       "      <th>Purchase Count</th>\n",
       "    </tr>\n",
       "    <tr>\n",
       "      <th>Age Range</th>\n",
       "      <th></th>\n",
       "      <th></th>\n",
       "      <th></th>\n",
       "      <th></th>\n",
       "    </tr>\n",
       "  </thead>\n",
       "  <tbody>\n",
       "    <tr>\n",
       "      <th>&lt;10</th>\n",
       "      <td>$3.02</td>\n",
       "      <td>$96.62</td>\n",
       "      <td>$4.39</td>\n",
       "      <td>32</td>\n",
       "    </tr>\n",
       "    <tr>\n",
       "      <th>10-14</th>\n",
       "      <td>$2.70</td>\n",
       "      <td>$83.79</td>\n",
       "      <td>$4.19</td>\n",
       "      <td>31</td>\n",
       "    </tr>\n",
       "    <tr>\n",
       "      <th>15-19</th>\n",
       "      <td>$2.91</td>\n",
       "      <td>$386.42</td>\n",
       "      <td>$3.86</td>\n",
       "      <td>133</td>\n",
       "    </tr>\n",
       "    <tr>\n",
       "      <th>20-24</th>\n",
       "      <td>$2.91</td>\n",
       "      <td>$978.77</td>\n",
       "      <td>$3.78</td>\n",
       "      <td>336</td>\n",
       "    </tr>\n",
       "    <tr>\n",
       "      <th>25-29</th>\n",
       "      <td>$2.96</td>\n",
       "      <td>$370.33</td>\n",
       "      <td>$4.26</td>\n",
       "      <td>125</td>\n",
       "    </tr>\n",
       "    <tr>\n",
       "      <th>30-34</th>\n",
       "      <td>$3.08</td>\n",
       "      <td>$197.25</td>\n",
       "      <td>$4.20</td>\n",
       "      <td>64</td>\n",
       "    </tr>\n",
       "    <tr>\n",
       "      <th>35-39</th>\n",
       "      <td>$2.84</td>\n",
       "      <td>$119.40</td>\n",
       "      <td>$4.42</td>\n",
       "      <td>42</td>\n",
       "    </tr>\n",
       "    <tr>\n",
       "      <th>40=&lt;</th>\n",
       "      <td>$3.16</td>\n",
       "      <td>$53.75</td>\n",
       "      <td>$4.89</td>\n",
       "      <td>17</td>\n",
       "    </tr>\n",
       "  </tbody>\n",
       "</table>\n",
       "</div>"
      ],
      "text/plain": [
       "          Average Purchase Price Total Purchase Value Normalized Value Totals  \\\n",
       "Age Range                                                                       \n",
       "<10                        $3.02               $96.62                   $4.39   \n",
       "10-14                      $2.70               $83.79                   $4.19   \n",
       "15-19                      $2.91              $386.42                   $3.86   \n",
       "20-24                      $2.91              $978.77                   $3.78   \n",
       "25-29                      $2.96              $370.33                   $4.26   \n",
       "30-34                      $3.08              $197.25                   $4.20   \n",
       "35-39                      $2.84              $119.40                   $4.42   \n",
       "40=<                       $3.16               $53.75                   $4.89   \n",
       "\n",
       "           Purchase Count  \n",
       "Age Range                  \n",
       "<10                    32  \n",
       "10-14                  31  \n",
       "15-19                 133  \n",
       "20-24                 336  \n",
       "25-29                 125  \n",
       "30-34                  64  \n",
       "35-39                  42  \n",
       "40=<                   17  "
      ]
     },
     "execution_count": 38,
     "metadata": {},
     "output_type": "execute_result"
    }
   ],
   "source": [
    "# Purchasing Analysis (Age) Chart\n",
    "first_merged_table = renamed_avg_price_age_df.join(renamed_total_value_age_df)\n",
    "second_merged_table = first_merged_table.join(renamed_normalized_values_age_df)\n",
    "purchasing_analysis_age_table = second_merged_table.join(renamed_purchase_count_df)\n",
    "purchasing_analysis_age_table[[\"Average Purchase Price\", \"Total Purchase Value\", \"Normalized Value Totals\"]] = purchasing_analysis_age_table[[\"Average Purchase Price\", \"Total Purchase Value\", \"Normalized Value Totals\"]].applymap(\"${:,.2f}\".format)\n",
    "purchasing_analysis_age_table"
   ]
  },
  {
   "cell_type": "code",
   "execution_count": 39,
   "metadata": {
    "collapsed": true
   },
   "outputs": [],
   "source": [
    "# Top Spenders (SN) - Purchase Count\n",
    "group_SN = purchase_df.groupby(\"SN\")\n",
    "SN_count = group_SN.count()\n",
    "SN_count_sort = SN_count.sort_values(\"Item ID\", ascending=False)\n",
    "top_spender_num_purchases = SN_count_sort[\"Item ID\"]\n",
    "top_spender_purchases_df = pd.DataFrame(top_spender_num_purchases)\n",
    "top_spender_num_purchases_df = top_spender_purchases_df.rename(columns={\"Item ID\" : \"Purchase Count\"})"
   ]
  },
  {
   "cell_type": "code",
   "execution_count": 40,
   "metadata": {
    "collapsed": true
   },
   "outputs": [],
   "source": [
    "# Top Spenders (SN) - Average Purchase Price\n",
    "group_SN = purchase_df.groupby(\"SN\")\n",
    "SN_avg_price = group_SN.mean()\n",
    "SN_avg_price_sort = SN_avg_price.sort_values(\"Price\", ascending=False)\n",
    "top_spender_avg_price = SN_avg_price_sort[\"Price\"]\n",
    "top_spender_avg_price_df = pd.DataFrame(top_spender_avg_price)\n",
    "renamed_top_spender_avg_price_df = top_spender_avg_price_df.rename(columns={\"Price\" : \"Average Purchase Price\"})"
   ]
  },
  {
   "cell_type": "code",
   "execution_count": 41,
   "metadata": {
    "collapsed": true
   },
   "outputs": [],
   "source": [
    "# Top Spenders (SN) - Total Purchase Value\n",
    "group_SN = purchase_df.groupby(\"SN\")\n",
    "SN_total_value = group_SN.sum()\n",
    "SN_total_value_sort = SN_total_value.sort_values(\"Price\", ascending=False)\n",
    "top_spender_total_value = SN_total_value_sort[\"Price\"]\n",
    "top_spender_total_value_df = pd.DataFrame(top_spender_total_value)\n",
    "renamed_top_spender_total_value_df = top_spender_total_value_df.rename(columns={\"Price\" : \"Total Purchase Value\"})"
   ]
  },
  {
   "cell_type": "code",
   "execution_count": 42,
   "metadata": {},
   "outputs": [
    {
     "data": {
      "text/html": [
       "<div>\n",
       "<style scoped>\n",
       "    .dataframe tbody tr th:only-of-type {\n",
       "        vertical-align: middle;\n",
       "    }\n",
       "\n",
       "    .dataframe tbody tr th {\n",
       "        vertical-align: top;\n",
       "    }\n",
       "\n",
       "    .dataframe thead th {\n",
       "        text-align: right;\n",
       "    }\n",
       "</style>\n",
       "<table border=\"1\" class=\"dataframe\">\n",
       "  <thead>\n",
       "    <tr style=\"text-align: right;\">\n",
       "      <th></th>\n",
       "      <th>Purchase Count</th>\n",
       "      <th>Average Purchase Price</th>\n",
       "      <th>Total Purchase Value</th>\n",
       "    </tr>\n",
       "    <tr>\n",
       "      <th>SN</th>\n",
       "      <th></th>\n",
       "      <th></th>\n",
       "      <th></th>\n",
       "    </tr>\n",
       "  </thead>\n",
       "  <tbody>\n",
       "    <tr>\n",
       "      <th>Undirrala66</th>\n",
       "      <td>5</td>\n",
       "      <td>$3.41</td>\n",
       "      <td>$17.06</td>\n",
       "    </tr>\n",
       "    <tr>\n",
       "      <th>Mindimnya67</th>\n",
       "      <td>4</td>\n",
       "      <td>$3.18</td>\n",
       "      <td>$12.74</td>\n",
       "    </tr>\n",
       "    <tr>\n",
       "      <th>Qarwen67</th>\n",
       "      <td>4</td>\n",
       "      <td>$2.49</td>\n",
       "      <td>$9.97</td>\n",
       "    </tr>\n",
       "    <tr>\n",
       "      <th>Saedue76</th>\n",
       "      <td>4</td>\n",
       "      <td>$3.39</td>\n",
       "      <td>$13.56</td>\n",
       "    </tr>\n",
       "    <tr>\n",
       "      <th>Sondastan54</th>\n",
       "      <td>4</td>\n",
       "      <td>$2.56</td>\n",
       "      <td>$10.24</td>\n",
       "    </tr>\n",
       "  </tbody>\n",
       "</table>\n",
       "</div>"
      ],
      "text/plain": [
       "             Purchase Count Average Purchase Price Total Purchase Value\n",
       "SN                                                                     \n",
       "Undirrala66               5                  $3.41               $17.06\n",
       "Mindimnya67               4                  $3.18               $12.74\n",
       "Qarwen67                  4                  $2.49                $9.97\n",
       "Saedue76                  4                  $3.39               $13.56\n",
       "Sondastan54               4                  $2.56               $10.24"
      ]
     },
     "execution_count": 42,
     "metadata": {},
     "output_type": "execute_result"
    }
   ],
   "source": [
    "# Joining DataFrames to Create Final Product\n",
    "numpurchase_avgprice_joined_table = top_spender_num_purchases_df.join(renamed_top_spender_avg_price_df)\n",
    "top_spenders_table_df = numpurchase_avgprice_joined_table.join(renamed_top_spender_total_value_df)\n",
    "\n",
    "# Format Final DataFrame\n",
    "top_spenders_table_df[[\"Average Purchase Price\", \"Total Purchase Value\"]] = top_spenders_table_df[[\"Average Purchase Price\", \"Total Purchase Value\"]].applymap(\"${:,.2f}\".format)\n",
    "top_spenders_table_df.head()"
   ]
  },
  {
   "cell_type": "code",
   "execution_count": 43,
   "metadata": {
    "collapsed": true
   },
   "outputs": [],
   "source": [
    "# Most Popular Items - Purchase Count\n",
    "item_group = purchase_df.groupby([\"Item ID\", \"Item Name\"])\n",
    "count_item_group = item_group.count()\n",
    "purchase_count_item = count_item_group[\"SN\"]\n",
    "purchase_count_item_df = pd.DataFrame(purchase_count_item)\n",
    "renamed_purchase_count_item_df = purchase_count_item_df.rename(columns={\"SN\" : \"Purchase Count\"})"
   ]
  },
  {
   "cell_type": "code",
   "execution_count": 44,
   "metadata": {
    "collapsed": true
   },
   "outputs": [],
   "source": [
    "# Most Popular Items - Total Purchase Value\n",
    "item_group = purchase_df.groupby([\"Item ID\", \"Item Name\"])\n",
    "total_item_group = item_group.sum()\n",
    "total_item_group\n",
    "total_purchase_item = total_item_group[\"Price\"]\n",
    "total_purchase_item_df = pd.DataFrame(total_purchase_item)\n",
    "renamed_total_purchase_item_df = total_purchase_item_df.rename(columns={\"Price\" : \"Total Purchase Value\"})"
   ]
  },
  {
   "cell_type": "code",
   "execution_count": 45,
   "metadata": {
    "collapsed": true
   },
   "outputs": [],
   "source": [
    "# Most Popular Items - Item Price\n",
    "item_group = purchase_df.groupby([\"Item ID\", \"Item Name\"])\n",
    "item_price_group = item_group.max()\n",
    "item_price = item_price_group[\"Price\"]\n",
    "item_price_df = pd.DataFrame(item_price)\n",
    "renamed_item_price_df = item_price_df.rename(columns={\"Price\" : \"Item Price\"})"
   ]
  },
  {
   "cell_type": "code",
   "execution_count": 46,
   "metadata": {
    "collapsed": true
   },
   "outputs": [],
   "source": [
    "# Joining DataFrames to Create Most Popular Items DataFrame\n",
    "count_price_join = renamed_purchase_count_item_df.join(renamed_item_price_df)\n",
    "popular_items = count_price_join.join(renamed_total_purchase_item_df)\n",
    "most_popular_items = popular_items.sort_values(\"Purchase Count\", ascending=False)\n",
    "most_popular_items[[\"Item Price\", \"Total Purchase Value\"]] = most_popular_items[[\"Item Price\", \"Total Purchase Value\"]].applymap(\"${:,.2f}\".format)"
   ]
  },
  {
   "cell_type": "code",
   "execution_count": 47,
   "metadata": {},
   "outputs": [
    {
     "data": {
      "text/html": [
       "<div>\n",
       "<style scoped>\n",
       "    .dataframe tbody tr th:only-of-type {\n",
       "        vertical-align: middle;\n",
       "    }\n",
       "\n",
       "    .dataframe tbody tr th {\n",
       "        vertical-align: top;\n",
       "    }\n",
       "\n",
       "    .dataframe thead th {\n",
       "        text-align: right;\n",
       "    }\n",
       "</style>\n",
       "<table border=\"1\" class=\"dataframe\">\n",
       "  <thead>\n",
       "    <tr style=\"text-align: right;\">\n",
       "      <th></th>\n",
       "      <th></th>\n",
       "      <th>Purchase Count</th>\n",
       "      <th>Item Price</th>\n",
       "      <th>Total Purchase Value</th>\n",
       "    </tr>\n",
       "    <tr>\n",
       "      <th>Item ID</th>\n",
       "      <th>Item Name</th>\n",
       "      <th></th>\n",
       "      <th></th>\n",
       "      <th></th>\n",
       "    </tr>\n",
       "  </thead>\n",
       "  <tbody>\n",
       "    <tr>\n",
       "      <th>39</th>\n",
       "      <th>Betrayal, Whisper of Grieving Widows</th>\n",
       "      <td>11</td>\n",
       "      <td>$2.35</td>\n",
       "      <td>$25.85</td>\n",
       "    </tr>\n",
       "    <tr>\n",
       "      <th>84</th>\n",
       "      <th>Arcane Gem</th>\n",
       "      <td>11</td>\n",
       "      <td>$2.23</td>\n",
       "      <td>$24.53</td>\n",
       "    </tr>\n",
       "    <tr>\n",
       "      <th>31</th>\n",
       "      <th>Trickster</th>\n",
       "      <td>9</td>\n",
       "      <td>$2.07</td>\n",
       "      <td>$18.63</td>\n",
       "    </tr>\n",
       "    <tr>\n",
       "      <th>175</th>\n",
       "      <th>Woeful Adamantite Claymore</th>\n",
       "      <td>9</td>\n",
       "      <td>$1.24</td>\n",
       "      <td>$11.16</td>\n",
       "    </tr>\n",
       "    <tr>\n",
       "      <th>13</th>\n",
       "      <th>Serenity</th>\n",
       "      <td>9</td>\n",
       "      <td>$1.49</td>\n",
       "      <td>$13.41</td>\n",
       "    </tr>\n",
       "  </tbody>\n",
       "</table>\n",
       "</div>"
      ],
      "text/plain": [
       "                                              Purchase Count Item Price  \\\n",
       "Item ID Item Name                                                         \n",
       "39      Betrayal, Whisper of Grieving Widows              11      $2.35   \n",
       "84      Arcane Gem                                        11      $2.23   \n",
       "31      Trickster                                          9      $2.07   \n",
       "175     Woeful Adamantite Claymore                         9      $1.24   \n",
       "13      Serenity                                           9      $1.49   \n",
       "\n",
       "                                             Total Purchase Value  \n",
       "Item ID Item Name                                                  \n",
       "39      Betrayal, Whisper of Grieving Widows               $25.85  \n",
       "84      Arcane Gem                                         $24.53  \n",
       "31      Trickster                                          $18.63  \n",
       "175     Woeful Adamantite Claymore                         $11.16  \n",
       "13      Serenity                                           $13.41  "
      ]
     },
     "execution_count": 47,
     "metadata": {},
     "output_type": "execute_result"
    }
   ],
   "source": [
    "# Most Profitable Items - Most Times Purchased\n",
    "most_popular_items.head()"
   ]
  },
  {
   "cell_type": "code",
   "execution_count": 48,
   "metadata": {
    "collapsed": true
   },
   "outputs": [],
   "source": [
    "# Formatting for Most Profitable Items - Highest Revenue Total\n",
    "most_profitable_items = popular_items.sort_values(\"Total Purchase Value\", ascending=False)\n",
    "most_profitable_items[[\"Item Price\", \"Total Purchase Value\"]] = most_profitable_items[[\"Item Price\", \"Total Purchase Value\"]].applymap(\"${:,.2f}\".format)"
   ]
  },
  {
   "cell_type": "code",
   "execution_count": 49,
   "metadata": {},
   "outputs": [
    {
     "data": {
      "text/html": [
       "<div>\n",
       "<style scoped>\n",
       "    .dataframe tbody tr th:only-of-type {\n",
       "        vertical-align: middle;\n",
       "    }\n",
       "\n",
       "    .dataframe tbody tr th {\n",
       "        vertical-align: top;\n",
       "    }\n",
       "\n",
       "    .dataframe thead th {\n",
       "        text-align: right;\n",
       "    }\n",
       "</style>\n",
       "<table border=\"1\" class=\"dataframe\">\n",
       "  <thead>\n",
       "    <tr style=\"text-align: right;\">\n",
       "      <th></th>\n",
       "      <th></th>\n",
       "      <th>Purchase Count</th>\n",
       "      <th>Item Price</th>\n",
       "      <th>Total Purchase Value</th>\n",
       "    </tr>\n",
       "    <tr>\n",
       "      <th>Item ID</th>\n",
       "      <th>Item Name</th>\n",
       "      <th></th>\n",
       "      <th></th>\n",
       "      <th></th>\n",
       "    </tr>\n",
       "  </thead>\n",
       "  <tbody>\n",
       "    <tr>\n",
       "      <th>34</th>\n",
       "      <th>Retribution Axe</th>\n",
       "      <td>9</td>\n",
       "      <td>$4.14</td>\n",
       "      <td>$37.26</td>\n",
       "    </tr>\n",
       "    <tr>\n",
       "      <th>115</th>\n",
       "      <th>Spectral Diamond Doomblade</th>\n",
       "      <td>7</td>\n",
       "      <td>$4.25</td>\n",
       "      <td>$29.75</td>\n",
       "    </tr>\n",
       "    <tr>\n",
       "      <th>32</th>\n",
       "      <th>Orenmir</th>\n",
       "      <td>6</td>\n",
       "      <td>$4.95</td>\n",
       "      <td>$29.70</td>\n",
       "    </tr>\n",
       "    <tr>\n",
       "      <th>103</th>\n",
       "      <th>Singed Scalpel</th>\n",
       "      <td>6</td>\n",
       "      <td>$4.87</td>\n",
       "      <td>$29.22</td>\n",
       "    </tr>\n",
       "    <tr>\n",
       "      <th>107</th>\n",
       "      <th>Splitter, Foe Of Subtlety</th>\n",
       "      <td>8</td>\n",
       "      <td>$3.61</td>\n",
       "      <td>$28.88</td>\n",
       "    </tr>\n",
       "  </tbody>\n",
       "</table>\n",
       "</div>"
      ],
      "text/plain": [
       "                                    Purchase Count Item Price  \\\n",
       "Item ID Item Name                                               \n",
       "34      Retribution Axe                          9      $4.14   \n",
       "115     Spectral Diamond Doomblade               7      $4.25   \n",
       "32      Orenmir                                  6      $4.95   \n",
       "103     Singed Scalpel                           6      $4.87   \n",
       "107     Splitter, Foe Of Subtlety                8      $3.61   \n",
       "\n",
       "                                   Total Purchase Value  \n",
       "Item ID Item Name                                        \n",
       "34      Retribution Axe                          $37.26  \n",
       "115     Spectral Diamond Doomblade               $29.75  \n",
       "32      Orenmir                                  $29.70  \n",
       "103     Singed Scalpel                           $29.22  \n",
       "107     Splitter, Foe Of Subtlety                $28.88  "
      ]
     },
     "execution_count": 49,
     "metadata": {},
     "output_type": "execute_result"
    }
   ],
   "source": [
    "# Most Profitable Items - Highest Revenue Total\n",
    "most_profitable_items.head()"
   ]
  },
  {
   "cell_type": "code",
   "execution_count": 50,
   "metadata": {
    "collapsed": true
   },
   "outputs": [],
   "source": [
    "# -------------------------------------------------------------------------------------"
   ]
  },
  {
   "cell_type": "code",
   "execution_count": 51,
   "metadata": {
    "collapsed": true
   },
   "outputs": [],
   "source": [
    "# -------------------------------------------------------------------------------------"
   ]
  },
  {
   "cell_type": "code",
   "execution_count": 52,
   "metadata": {
    "collapsed": true
   },
   "outputs": [],
   "source": [
    "# Summary of Charts"
   ]
  },
  {
   "cell_type": "code",
   "execution_count": 53,
   "metadata": {},
   "outputs": [
    {
     "data": {
      "text/html": [
       "<div>\n",
       "<style scoped>\n",
       "    .dataframe tbody tr th:only-of-type {\n",
       "        vertical-align: middle;\n",
       "    }\n",
       "\n",
       "    .dataframe tbody tr th {\n",
       "        vertical-align: top;\n",
       "    }\n",
       "\n",
       "    .dataframe thead th {\n",
       "        text-align: right;\n",
       "    }\n",
       "</style>\n",
       "<table border=\"1\" class=\"dataframe\">\n",
       "  <thead>\n",
       "    <tr style=\"text-align: right;\">\n",
       "      <th></th>\n",
       "      <th>Total Players</th>\n",
       "    </tr>\n",
       "  </thead>\n",
       "  <tbody>\n",
       "    <tr>\n",
       "      <th>0</th>\n",
       "      <td>573</td>\n",
       "    </tr>\n",
       "  </tbody>\n",
       "</table>\n",
       "</div>"
      ],
      "text/plain": [
       "   Total Players\n",
       "0            573"
      ]
     },
     "execution_count": 53,
     "metadata": {},
     "output_type": "execute_result"
    }
   ],
   "source": [
    "total_players_df"
   ]
  },
  {
   "cell_type": "code",
   "execution_count": 54,
   "metadata": {},
   "outputs": [
    {
     "data": {
      "text/html": [
       "<div>\n",
       "<style scoped>\n",
       "    .dataframe tbody tr th:only-of-type {\n",
       "        vertical-align: middle;\n",
       "    }\n",
       "\n",
       "    .dataframe tbody tr th {\n",
       "        vertical-align: top;\n",
       "    }\n",
       "\n",
       "    .dataframe thead th {\n",
       "        text-align: right;\n",
       "    }\n",
       "</style>\n",
       "<table border=\"1\" class=\"dataframe\">\n",
       "  <thead>\n",
       "    <tr style=\"text-align: right;\">\n",
       "      <th></th>\n",
       "      <th>Average Purchase Price</th>\n",
       "      <th>Number of Unique Items</th>\n",
       "      <th>Total Number of Purchases</th>\n",
       "      <th>Total Revenue</th>\n",
       "    </tr>\n",
       "  </thead>\n",
       "  <tbody>\n",
       "    <tr>\n",
       "      <th>0</th>\n",
       "      <td>$2.93</td>\n",
       "      <td>179</td>\n",
       "      <td>780</td>\n",
       "      <td>$2286.33</td>\n",
       "    </tr>\n",
       "  </tbody>\n",
       "</table>\n",
       "</div>"
      ],
      "text/plain": [
       "  Average Purchase Price  Number of Unique Items  Total Number of Purchases  \\\n",
       "0                  $2.93                     179                        780   \n",
       "\n",
       "  Total Revenue  \n",
       "0      $2286.33  "
      ]
     },
     "execution_count": 54,
     "metadata": {},
     "output_type": "execute_result"
    }
   ],
   "source": [
    "purchasing_analysis_df"
   ]
  },
  {
   "cell_type": "code",
   "execution_count": 55,
   "metadata": {},
   "outputs": [
    {
     "data": {
      "text/html": [
       "<div>\n",
       "<style scoped>\n",
       "    .dataframe tbody tr th:only-of-type {\n",
       "        vertical-align: middle;\n",
       "    }\n",
       "\n",
       "    .dataframe tbody tr th {\n",
       "        vertical-align: top;\n",
       "    }\n",
       "\n",
       "    .dataframe thead th {\n",
       "        text-align: right;\n",
       "    }\n",
       "</style>\n",
       "<table border=\"1\" class=\"dataframe\">\n",
       "  <thead>\n",
       "    <tr style=\"text-align: right;\">\n",
       "      <th></th>\n",
       "      <th>Percentage of Total Players</th>\n",
       "      <th>Total Count</th>\n",
       "    </tr>\n",
       "  </thead>\n",
       "  <tbody>\n",
       "    <tr>\n",
       "      <th>Male</th>\n",
       "      <td>81.15</td>\n",
       "      <td>465</td>\n",
       "    </tr>\n",
       "    <tr>\n",
       "      <th>Female</th>\n",
       "      <td>17.45</td>\n",
       "      <td>100</td>\n",
       "    </tr>\n",
       "    <tr>\n",
       "      <th>Other / Non-Disclosed</th>\n",
       "      <td>1.40</td>\n",
       "      <td>8</td>\n",
       "    </tr>\n",
       "  </tbody>\n",
       "</table>\n",
       "</div>"
      ],
      "text/plain": [
       "                       Percentage of Total Players  Total Count\n",
       "Male                                         81.15          465\n",
       "Female                                       17.45          100\n",
       "Other / Non-Disclosed                         1.40            8"
      ]
     },
     "execution_count": 55,
     "metadata": {},
     "output_type": "execute_result"
    }
   ],
   "source": [
    "formatted_gender_demographics"
   ]
  },
  {
   "cell_type": "code",
   "execution_count": 56,
   "metadata": {},
   "outputs": [
    {
     "data": {
      "text/html": [
       "<div>\n",
       "<style scoped>\n",
       "    .dataframe tbody tr th:only-of-type {\n",
       "        vertical-align: middle;\n",
       "    }\n",
       "\n",
       "    .dataframe tbody tr th {\n",
       "        vertical-align: top;\n",
       "    }\n",
       "\n",
       "    .dataframe thead th {\n",
       "        text-align: right;\n",
       "    }\n",
       "</style>\n",
       "<table border=\"1\" class=\"dataframe\">\n",
       "  <thead>\n",
       "    <tr style=\"text-align: right;\">\n",
       "      <th></th>\n",
       "      <th>Average Purchase Price</th>\n",
       "      <th>Normalized Totals</th>\n",
       "      <th>Purchase Count</th>\n",
       "      <th>Total Purchase Value</th>\n",
       "    </tr>\n",
       "    <tr>\n",
       "      <th>Gender</th>\n",
       "      <th></th>\n",
       "      <th></th>\n",
       "      <th></th>\n",
       "      <th></th>\n",
       "    </tr>\n",
       "  </thead>\n",
       "  <tbody>\n",
       "    <tr>\n",
       "      <th>Male</th>\n",
       "      <td>$2.95</td>\n",
       "      <td>$4.02</td>\n",
       "      <td>465</td>\n",
       "      <td>$1867.68</td>\n",
       "    </tr>\n",
       "    <tr>\n",
       "      <th>Female</th>\n",
       "      <td>$2.82</td>\n",
       "      <td>$3.83</td>\n",
       "      <td>100</td>\n",
       "      <td>$382.91</td>\n",
       "    </tr>\n",
       "    <tr>\n",
       "      <th>Other / Non-Disclosed</th>\n",
       "      <td>$3.25</td>\n",
       "      <td>$4.47</td>\n",
       "      <td>8</td>\n",
       "      <td>$35.74</td>\n",
       "    </tr>\n",
       "  </tbody>\n",
       "</table>\n",
       "</div>"
      ],
      "text/plain": [
       "                      Average Purchase Price Normalized Totals  \\\n",
       "Gender                                                           \n",
       "Male                                   $2.95             $4.02   \n",
       "Female                                 $2.82             $3.83   \n",
       "Other / Non-Disclosed                  $3.25             $4.47   \n",
       "\n",
       "                       Purchase Count Total Purchase Value  \n",
       "Gender                                                      \n",
       "Male                              465             $1867.68  \n",
       "Female                            100              $382.91  \n",
       "Other / Non-Disclosed               8               $35.74  "
      ]
     },
     "execution_count": 56,
     "metadata": {},
     "output_type": "execute_result"
    }
   ],
   "source": [
    "formatted_purchasing_analysis_gender_df"
   ]
  },
  {
   "cell_type": "code",
   "execution_count": 57,
   "metadata": {},
   "outputs": [
    {
     "data": {
      "text/html": [
       "<div>\n",
       "<style scoped>\n",
       "    .dataframe tbody tr th:only-of-type {\n",
       "        vertical-align: middle;\n",
       "    }\n",
       "\n",
       "    .dataframe tbody tr th {\n",
       "        vertical-align: top;\n",
       "    }\n",
       "\n",
       "    .dataframe thead th {\n",
       "        text-align: right;\n",
       "    }\n",
       "</style>\n",
       "<table border=\"1\" class=\"dataframe\">\n",
       "  <thead>\n",
       "    <tr style=\"text-align: right;\">\n",
       "      <th></th>\n",
       "      <th>Total Count of Players</th>\n",
       "      <th>Percentage of Players</th>\n",
       "    </tr>\n",
       "    <tr>\n",
       "      <th>Age Range</th>\n",
       "      <th></th>\n",
       "      <th></th>\n",
       "    </tr>\n",
       "  </thead>\n",
       "  <tbody>\n",
       "    <tr>\n",
       "      <th>&lt;10</th>\n",
       "      <td>22</td>\n",
       "      <td>3.84</td>\n",
       "    </tr>\n",
       "    <tr>\n",
       "      <th>10-14</th>\n",
       "      <td>20</td>\n",
       "      <td>3.49</td>\n",
       "    </tr>\n",
       "    <tr>\n",
       "      <th>15-19</th>\n",
       "      <td>100</td>\n",
       "      <td>17.45</td>\n",
       "    </tr>\n",
       "    <tr>\n",
       "      <th>20-24</th>\n",
       "      <td>259</td>\n",
       "      <td>45.20</td>\n",
       "    </tr>\n",
       "    <tr>\n",
       "      <th>25-29</th>\n",
       "      <td>87</td>\n",
       "      <td>15.18</td>\n",
       "    </tr>\n",
       "    <tr>\n",
       "      <th>30-34</th>\n",
       "      <td>47</td>\n",
       "      <td>8.20</td>\n",
       "    </tr>\n",
       "    <tr>\n",
       "      <th>35-39</th>\n",
       "      <td>27</td>\n",
       "      <td>4.71</td>\n",
       "    </tr>\n",
       "    <tr>\n",
       "      <th>40=&lt;</th>\n",
       "      <td>11</td>\n",
       "      <td>1.92</td>\n",
       "    </tr>\n",
       "  </tbody>\n",
       "</table>\n",
       "</div>"
      ],
      "text/plain": [
       "           Total Count of Players  Percentage of Players\n",
       "Age Range                                               \n",
       "<10                            22                   3.84\n",
       "10-14                          20                   3.49\n",
       "15-19                         100                  17.45\n",
       "20-24                         259                  45.20\n",
       "25-29                          87                  15.18\n",
       "30-34                          47                   8.20\n",
       "35-39                          27                   4.71\n",
       "40=<                           11                   1.92"
      ]
     },
     "execution_count": 57,
     "metadata": {},
     "output_type": "execute_result"
    }
   ],
   "source": [
    "final_age_demographics_table"
   ]
  },
  {
   "cell_type": "code",
   "execution_count": 58,
   "metadata": {},
   "outputs": [
    {
     "data": {
      "text/html": [
       "<div>\n",
       "<style scoped>\n",
       "    .dataframe tbody tr th:only-of-type {\n",
       "        vertical-align: middle;\n",
       "    }\n",
       "\n",
       "    .dataframe tbody tr th {\n",
       "        vertical-align: top;\n",
       "    }\n",
       "\n",
       "    .dataframe thead th {\n",
       "        text-align: right;\n",
       "    }\n",
       "</style>\n",
       "<table border=\"1\" class=\"dataframe\">\n",
       "  <thead>\n",
       "    <tr style=\"text-align: right;\">\n",
       "      <th></th>\n",
       "      <th>Average Purchase Price</th>\n",
       "      <th>Total Purchase Value</th>\n",
       "      <th>Normalized Value Totals</th>\n",
       "      <th>Purchase Count</th>\n",
       "    </tr>\n",
       "    <tr>\n",
       "      <th>Age Range</th>\n",
       "      <th></th>\n",
       "      <th></th>\n",
       "      <th></th>\n",
       "      <th></th>\n",
       "    </tr>\n",
       "  </thead>\n",
       "  <tbody>\n",
       "    <tr>\n",
       "      <th>&lt;10</th>\n",
       "      <td>$3.02</td>\n",
       "      <td>$96.62</td>\n",
       "      <td>$4.39</td>\n",
       "      <td>32</td>\n",
       "    </tr>\n",
       "    <tr>\n",
       "      <th>10-14</th>\n",
       "      <td>$2.70</td>\n",
       "      <td>$83.79</td>\n",
       "      <td>$4.19</td>\n",
       "      <td>31</td>\n",
       "    </tr>\n",
       "    <tr>\n",
       "      <th>15-19</th>\n",
       "      <td>$2.91</td>\n",
       "      <td>$386.42</td>\n",
       "      <td>$3.86</td>\n",
       "      <td>133</td>\n",
       "    </tr>\n",
       "    <tr>\n",
       "      <th>20-24</th>\n",
       "      <td>$2.91</td>\n",
       "      <td>$978.77</td>\n",
       "      <td>$3.78</td>\n",
       "      <td>336</td>\n",
       "    </tr>\n",
       "    <tr>\n",
       "      <th>25-29</th>\n",
       "      <td>$2.96</td>\n",
       "      <td>$370.33</td>\n",
       "      <td>$4.26</td>\n",
       "      <td>125</td>\n",
       "    </tr>\n",
       "    <tr>\n",
       "      <th>30-34</th>\n",
       "      <td>$3.08</td>\n",
       "      <td>$197.25</td>\n",
       "      <td>$4.20</td>\n",
       "      <td>64</td>\n",
       "    </tr>\n",
       "    <tr>\n",
       "      <th>35-39</th>\n",
       "      <td>$2.84</td>\n",
       "      <td>$119.40</td>\n",
       "      <td>$4.42</td>\n",
       "      <td>42</td>\n",
       "    </tr>\n",
       "    <tr>\n",
       "      <th>40=&lt;</th>\n",
       "      <td>$3.16</td>\n",
       "      <td>$53.75</td>\n",
       "      <td>$4.89</td>\n",
       "      <td>17</td>\n",
       "    </tr>\n",
       "  </tbody>\n",
       "</table>\n",
       "</div>"
      ],
      "text/plain": [
       "          Average Purchase Price Total Purchase Value Normalized Value Totals  \\\n",
       "Age Range                                                                       \n",
       "<10                        $3.02               $96.62                   $4.39   \n",
       "10-14                      $2.70               $83.79                   $4.19   \n",
       "15-19                      $2.91              $386.42                   $3.86   \n",
       "20-24                      $2.91              $978.77                   $3.78   \n",
       "25-29                      $2.96              $370.33                   $4.26   \n",
       "30-34                      $3.08              $197.25                   $4.20   \n",
       "35-39                      $2.84              $119.40                   $4.42   \n",
       "40=<                       $3.16               $53.75                   $4.89   \n",
       "\n",
       "           Purchase Count  \n",
       "Age Range                  \n",
       "<10                    32  \n",
       "10-14                  31  \n",
       "15-19                 133  \n",
       "20-24                 336  \n",
       "25-29                 125  \n",
       "30-34                  64  \n",
       "35-39                  42  \n",
       "40=<                   17  "
      ]
     },
     "execution_count": 58,
     "metadata": {},
     "output_type": "execute_result"
    }
   ],
   "source": [
    "purchasing_analysis_age_table"
   ]
  },
  {
   "cell_type": "code",
   "execution_count": 59,
   "metadata": {},
   "outputs": [
    {
     "data": {
      "text/html": [
       "<div>\n",
       "<style scoped>\n",
       "    .dataframe tbody tr th:only-of-type {\n",
       "        vertical-align: middle;\n",
       "    }\n",
       "\n",
       "    .dataframe tbody tr th {\n",
       "        vertical-align: top;\n",
       "    }\n",
       "\n",
       "    .dataframe thead th {\n",
       "        text-align: right;\n",
       "    }\n",
       "</style>\n",
       "<table border=\"1\" class=\"dataframe\">\n",
       "  <thead>\n",
       "    <tr style=\"text-align: right;\">\n",
       "      <th></th>\n",
       "      <th>Purchase Count</th>\n",
       "      <th>Average Purchase Price</th>\n",
       "      <th>Total Purchase Value</th>\n",
       "    </tr>\n",
       "    <tr>\n",
       "      <th>SN</th>\n",
       "      <th></th>\n",
       "      <th></th>\n",
       "      <th></th>\n",
       "    </tr>\n",
       "  </thead>\n",
       "  <tbody>\n",
       "    <tr>\n",
       "      <th>Undirrala66</th>\n",
       "      <td>5</td>\n",
       "      <td>$3.41</td>\n",
       "      <td>$17.06</td>\n",
       "    </tr>\n",
       "    <tr>\n",
       "      <th>Mindimnya67</th>\n",
       "      <td>4</td>\n",
       "      <td>$3.18</td>\n",
       "      <td>$12.74</td>\n",
       "    </tr>\n",
       "    <tr>\n",
       "      <th>Qarwen67</th>\n",
       "      <td>4</td>\n",
       "      <td>$2.49</td>\n",
       "      <td>$9.97</td>\n",
       "    </tr>\n",
       "    <tr>\n",
       "      <th>Saedue76</th>\n",
       "      <td>4</td>\n",
       "      <td>$3.39</td>\n",
       "      <td>$13.56</td>\n",
       "    </tr>\n",
       "    <tr>\n",
       "      <th>Sondastan54</th>\n",
       "      <td>4</td>\n",
       "      <td>$2.56</td>\n",
       "      <td>$10.24</td>\n",
       "    </tr>\n",
       "  </tbody>\n",
       "</table>\n",
       "</div>"
      ],
      "text/plain": [
       "             Purchase Count Average Purchase Price Total Purchase Value\n",
       "SN                                                                     \n",
       "Undirrala66               5                  $3.41               $17.06\n",
       "Mindimnya67               4                  $3.18               $12.74\n",
       "Qarwen67                  4                  $2.49                $9.97\n",
       "Saedue76                  4                  $3.39               $13.56\n",
       "Sondastan54               4                  $2.56               $10.24"
      ]
     },
     "execution_count": 59,
     "metadata": {},
     "output_type": "execute_result"
    }
   ],
   "source": [
    "top_spenders_table_df.head()"
   ]
  },
  {
   "cell_type": "code",
   "execution_count": 60,
   "metadata": {},
   "outputs": [
    {
     "data": {
      "text/html": [
       "<div>\n",
       "<style scoped>\n",
       "    .dataframe tbody tr th:only-of-type {\n",
       "        vertical-align: middle;\n",
       "    }\n",
       "\n",
       "    .dataframe tbody tr th {\n",
       "        vertical-align: top;\n",
       "    }\n",
       "\n",
       "    .dataframe thead th {\n",
       "        text-align: right;\n",
       "    }\n",
       "</style>\n",
       "<table border=\"1\" class=\"dataframe\">\n",
       "  <thead>\n",
       "    <tr style=\"text-align: right;\">\n",
       "      <th></th>\n",
       "      <th></th>\n",
       "      <th>Purchase Count</th>\n",
       "      <th>Item Price</th>\n",
       "      <th>Total Purchase Value</th>\n",
       "    </tr>\n",
       "    <tr>\n",
       "      <th>Item ID</th>\n",
       "      <th>Item Name</th>\n",
       "      <th></th>\n",
       "      <th></th>\n",
       "      <th></th>\n",
       "    </tr>\n",
       "  </thead>\n",
       "  <tbody>\n",
       "    <tr>\n",
       "      <th>39</th>\n",
       "      <th>Betrayal, Whisper of Grieving Widows</th>\n",
       "      <td>11</td>\n",
       "      <td>$2.35</td>\n",
       "      <td>$25.85</td>\n",
       "    </tr>\n",
       "    <tr>\n",
       "      <th>84</th>\n",
       "      <th>Arcane Gem</th>\n",
       "      <td>11</td>\n",
       "      <td>$2.23</td>\n",
       "      <td>$24.53</td>\n",
       "    </tr>\n",
       "    <tr>\n",
       "      <th>31</th>\n",
       "      <th>Trickster</th>\n",
       "      <td>9</td>\n",
       "      <td>$2.07</td>\n",
       "      <td>$18.63</td>\n",
       "    </tr>\n",
       "    <tr>\n",
       "      <th>175</th>\n",
       "      <th>Woeful Adamantite Claymore</th>\n",
       "      <td>9</td>\n",
       "      <td>$1.24</td>\n",
       "      <td>$11.16</td>\n",
       "    </tr>\n",
       "    <tr>\n",
       "      <th>13</th>\n",
       "      <th>Serenity</th>\n",
       "      <td>9</td>\n",
       "      <td>$1.49</td>\n",
       "      <td>$13.41</td>\n",
       "    </tr>\n",
       "  </tbody>\n",
       "</table>\n",
       "</div>"
      ],
      "text/plain": [
       "                                              Purchase Count Item Price  \\\n",
       "Item ID Item Name                                                         \n",
       "39      Betrayal, Whisper of Grieving Widows              11      $2.35   \n",
       "84      Arcane Gem                                        11      $2.23   \n",
       "31      Trickster                                          9      $2.07   \n",
       "175     Woeful Adamantite Claymore                         9      $1.24   \n",
       "13      Serenity                                           9      $1.49   \n",
       "\n",
       "                                             Total Purchase Value  \n",
       "Item ID Item Name                                                  \n",
       "39      Betrayal, Whisper of Grieving Widows               $25.85  \n",
       "84      Arcane Gem                                         $24.53  \n",
       "31      Trickster                                          $18.63  \n",
       "175     Woeful Adamantite Claymore                         $11.16  \n",
       "13      Serenity                                           $13.41  "
      ]
     },
     "execution_count": 60,
     "metadata": {},
     "output_type": "execute_result"
    }
   ],
   "source": [
    "most_popular_items.head()"
   ]
  },
  {
   "cell_type": "code",
   "execution_count": 61,
   "metadata": {},
   "outputs": [
    {
     "data": {
      "text/html": [
       "<div>\n",
       "<style scoped>\n",
       "    .dataframe tbody tr th:only-of-type {\n",
       "        vertical-align: middle;\n",
       "    }\n",
       "\n",
       "    .dataframe tbody tr th {\n",
       "        vertical-align: top;\n",
       "    }\n",
       "\n",
       "    .dataframe thead th {\n",
       "        text-align: right;\n",
       "    }\n",
       "</style>\n",
       "<table border=\"1\" class=\"dataframe\">\n",
       "  <thead>\n",
       "    <tr style=\"text-align: right;\">\n",
       "      <th></th>\n",
       "      <th></th>\n",
       "      <th>Purchase Count</th>\n",
       "      <th>Item Price</th>\n",
       "      <th>Total Purchase Value</th>\n",
       "    </tr>\n",
       "    <tr>\n",
       "      <th>Item ID</th>\n",
       "      <th>Item Name</th>\n",
       "      <th></th>\n",
       "      <th></th>\n",
       "      <th></th>\n",
       "    </tr>\n",
       "  </thead>\n",
       "  <tbody>\n",
       "    <tr>\n",
       "      <th>34</th>\n",
       "      <th>Retribution Axe</th>\n",
       "      <td>9</td>\n",
       "      <td>$4.14</td>\n",
       "      <td>$37.26</td>\n",
       "    </tr>\n",
       "    <tr>\n",
       "      <th>115</th>\n",
       "      <th>Spectral Diamond Doomblade</th>\n",
       "      <td>7</td>\n",
       "      <td>$4.25</td>\n",
       "      <td>$29.75</td>\n",
       "    </tr>\n",
       "    <tr>\n",
       "      <th>32</th>\n",
       "      <th>Orenmir</th>\n",
       "      <td>6</td>\n",
       "      <td>$4.95</td>\n",
       "      <td>$29.70</td>\n",
       "    </tr>\n",
       "    <tr>\n",
       "      <th>103</th>\n",
       "      <th>Singed Scalpel</th>\n",
       "      <td>6</td>\n",
       "      <td>$4.87</td>\n",
       "      <td>$29.22</td>\n",
       "    </tr>\n",
       "    <tr>\n",
       "      <th>107</th>\n",
       "      <th>Splitter, Foe Of Subtlety</th>\n",
       "      <td>8</td>\n",
       "      <td>$3.61</td>\n",
       "      <td>$28.88</td>\n",
       "    </tr>\n",
       "  </tbody>\n",
       "</table>\n",
       "</div>"
      ],
      "text/plain": [
       "                                    Purchase Count Item Price  \\\n",
       "Item ID Item Name                                               \n",
       "34      Retribution Axe                          9      $4.14   \n",
       "115     Spectral Diamond Doomblade               7      $4.25   \n",
       "32      Orenmir                                  6      $4.95   \n",
       "103     Singed Scalpel                           6      $4.87   \n",
       "107     Splitter, Foe Of Subtlety                8      $3.61   \n",
       "\n",
       "                                   Total Purchase Value  \n",
       "Item ID Item Name                                        \n",
       "34      Retribution Axe                          $37.26  \n",
       "115     Spectral Diamond Doomblade               $29.75  \n",
       "32      Orenmir                                  $29.70  \n",
       "103     Singed Scalpel                           $29.22  \n",
       "107     Splitter, Foe Of Subtlety                $28.88  "
      ]
     },
     "execution_count": 61,
     "metadata": {},
     "output_type": "execute_result"
    }
   ],
   "source": [
    "most_profitable_items.head()"
   ]
  },
  {
   "cell_type": "code",
   "execution_count": null,
   "metadata": {
    "collapsed": true
   },
   "outputs": [],
   "source": []
  }
 ],
 "metadata": {
  "kernelspec": {
   "display_name": "Python 3",
   "language": "python",
   "name": "python3"
  },
  "language_info": {
   "codemirror_mode": {
    "name": "ipython",
    "version": 3
   },
   "file_extension": ".py",
   "mimetype": "text/x-python",
   "name": "python",
   "nbconvert_exporter": "python",
   "pygments_lexer": "ipython3",
   "version": "3.6.4"
  }
 },
 "nbformat": 4,
 "nbformat_minor": 2
}
